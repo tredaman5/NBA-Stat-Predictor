{
 "cells": [
  {
   "cell_type": "code",
   "execution_count": 11,
   "id": "f895c1da",
   "metadata": {},
   "outputs": [
    {
     "name": "stdout",
     "output_type": "stream",
     "text": [
      "📡 Fetching NBA player game logs...\n",
      "✅ Sample training data (first 5 rows):\n",
      "   PLAYER_ID  PTS  AST  REB\n",
      "0     201939   33    5    4\n",
      "1     201939   22    8    7\n",
      "2     201939   23    8    7\n",
      "3     201939   28    5    6\n",
      "4     201939   29    6    6\n",
      "✅ Model trained on 218 rows and saved as nba_model.pkl\n"
     ]
    }
   ],
   "source": [
    "import pandas as pd\n",
    "from sklearn.linear_model import LinearRegression\n",
    "import joblib\n",
    "from nba_api.stats.endpoints import playergamelog\n",
    "\n",
    "# ---------------------------\n",
    "# Step 1: Fetch Game Logs\n",
    "# ---------------------------\n",
    "def fetch_player_data(player_id, season='2023-24'):\n",
    "    \"\"\"Fetches game log data for a specific player and season.\"\"\"\n",
    "    gamelog = playergamelog.PlayerGameLog(player_id=player_id, season=season)\n",
    "    df = gamelog.get_data_frames()[0]\n",
    "    df[\"PLAYER_ID\"] = player_id  # keep track of which player the row belongs to\n",
    "    return df\n",
    "\n",
    "def main():\n",
    "    print(\"📡 Fetching NBA player game logs...\")\n",
    "\n",
    "    # 🔑 List of player IDs you want to include\n",
    "    player_ids = [201939, 2544, 203507]  # Curry, LeBron, Giannis\n",
    "    season = \"2023-24\"\n",
    "\n",
    "    # Fetch and combine all players' data\n",
    "    all_dataframes = [fetch_player_data(pid, season) for pid in player_ids]\n",
    "    df = pd.concat(all_dataframes, ignore_index=True)\n",
    "\n",
    "    if df.empty:\n",
    "        raise SystemExit(\"❌ No game data returned for selected players/season.\")\n",
    "\n",
    "    # Keep only the columns we care about\n",
    "    df = df[[\"PLAYER_ID\", \"PTS\", \"AST\", \"REB\"]].dropna()\n",
    "\n",
    "    print(\"✅ Sample training data (first 5 rows):\")\n",
    "    print(df.head())\n",
    "\n",
    "    # ---------------------------\n",
    "    # Step 2: Train Model\n",
    "    # ---------------------------\n",
    "    X = df[[\"AST\", \"REB\"]]\n",
    "    y = df[\"PTS\"]\n",
    "\n",
    "    model = LinearRegression()\n",
    "    model.fit(X, y)\n",
    "\n",
    "    # ---------------------------\n",
    "    # Step 3: Save Model\n",
    "    # ---------------------------\n",
    "    joblib.dump(model, \"nba_model.pkl\")\n",
    "    print(f\"✅ Model trained on {len(df)} rows and saved as nba_model.pkl\")\n",
    "\n",
    "if __name__ == \"__main__\":\n",
    "    main()\n"
   ]
  },
  {
   "cell_type": "code",
   "execution_count": null,
   "id": "4fa21dc2",
   "metadata": {},
   "outputs": [],
   "source": []
  }
 ],
 "metadata": {
  "kernelspec": {
   "display_name": "Python 3",
   "language": "python",
   "name": "python3"
  },
  "language_info": {
   "codemirror_mode": {
    "name": "ipython",
    "version": 3
   },
   "file_extension": ".py",
   "mimetype": "text/x-python",
   "name": "python",
   "nbconvert_exporter": "python",
   "pygments_lexer": "ipython3",
   "version": "3.13.3"
  }
 },
 "nbformat": 4,
 "nbformat_minor": 5
}
