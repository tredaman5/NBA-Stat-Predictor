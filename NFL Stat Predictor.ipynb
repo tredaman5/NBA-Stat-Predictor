{
 "cells": [
  {
   "cell_type": "code",
   "execution_count": 3,
   "id": "b2391b9e-174c-4210-b316-1fe6920eef8b",
   "metadata": {
    "scrolled": true
   },
   "outputs": [
    {
     "name": "stdout",
     "output_type": "stream",
     "text": [
      "      season  receiving_yards  receptions  targets    ypr  \\\n",
      "6820    2020              935          74      109  12.64   \n",
      "7566    2021               10           1        5  10.00   \n",
      "7567    2021             1102          79      114  13.95   \n",
      "8262    2022              185          14       18  13.21   \n",
      "8263    2022             1359         107      152  12.70   \n",
      "8938    2023              110           9       16  12.22   \n",
      "8939    2023             1749         135      180  12.96   \n",
      "9622    2024             1194         101      146  11.82   \n",
      "\n",
      "      receiving_touchdown  games_played_season  \n",
      "6820                    5                    2  \n",
      "7566                    0                    3  \n",
      "7567                    6                    0  \n",
      "8262                    1                    3  \n",
      "8263                    9                    0  \n",
      "8938                    0                    1  \n",
      "8939                   12                    0  \n",
      "9622                    6                    3  \n"
     ]
    }
   ],
   "source": [
    "import pandas as pd\n",
    "\n",
    "# Load the dataset\n",
    "df = pd.read_csv(r\"C:\\Users\\tresm\\OneDrive\\Desktop\\yearly_player_stats_offense.csv\", index_col=False)\n",
    "\n",
    "# Filter CeeDee Lamb's data and select relevant columns\n",
    "lamb_stats = df[df['player_name'] == 'CeeDee Lamb'][[\n",
    "    'season', 'receiving_yards', 'receptions', 'targets',\n",
    "    'ypr', 'receiving_touchdown', 'games_played_season'\n",
    "]]\n",
    "\n",
    "# Sort by season\n",
    "lamb_stats = lamb_stats.sort_values(by='season')\n",
    "\n",
    "print(lamb_stats)"
   ]
  },
  {
   "cell_type": "code",
   "execution_count": 5,
   "id": "242a0368-e7d3-4f62-97db-db3a74b8c3f8",
   "metadata": {},
   "outputs": [
    {
     "name": "stdout",
     "output_type": "stream",
     "text": [
      "📈 Career Averages:\n",
      "season                 2022.0000\n",
      "receiving_yards         830.5000\n",
      "receptions               65.0000\n",
      "targets                  92.5000\n",
      "ypr                      12.4375\n",
      "receiving_touchdown       4.8750\n",
      "games_played_season       1.5000\n",
      "dtype: float64\n"
     ]
    }
   ],
   "source": [
    "averages = lamb_stats.mean(numeric_only=True)\n",
    "print(\"📈 Career Averages:\")\n",
    "print(averages)"
   ]
  },
  {
   "cell_type": "code",
   "execution_count": 7,
   "id": "70f4fb45-4129-408f-a176-242295b05159",
   "metadata": {},
   "outputs": [
    {
     "name": "stdout",
     "output_type": "stream",
     "text": [
      "🔮 Predicted 2025–2026 Stats for CeeDee Lamb:\n",
      "receiving_yards: 1146.8\n",
      "receptions: 94.5\n",
      "targets: 130.2\n",
      "ypr: 12.3\n",
      "receiving_touchdown: 6.9\n",
      "games_played_season: 1.5\n"
     ]
    }
   ],
   "source": [
    "from sklearn.linear_model import LinearRegression\n",
    "import numpy as np\n",
    "\n",
    "# Prepare features (season) and targets\n",
    "X = lamb_stats['season'].values.reshape(-1, 1)\n",
    "\n",
    "# We'll predict each stat independently\n",
    "predictions = {}\n",
    "for stat in ['receiving_yards', 'receptions', 'targets', 'ypr', 'receiving_touchdown', 'games_played_season']:\n",
    "    y = lamb_stats[stat].values\n",
    "    model = LinearRegression().fit(X, y)\n",
    "    future_year = np.array([[2025]])\n",
    "    predicted = model.predict(future_year)[0]\n",
    "    predictions[stat] = round(predicted, 1)\n",
    "\n",
    "print(\"🔮 Predicted 2025–2026 Stats for CeeDee Lamb:\")\n",
    "for stat, value in predictions.items():\n",
    "    print(f\"{stat}: {value}\")\n"
   ]
  },
  {
   "cell_type": "code",
   "execution_count": null,
   "id": "3aa2c0f6-558c-4611-9fe5-c03c8840c2dc",
   "metadata": {},
   "outputs": [],
   "source": []
  }
 ],
 "metadata": {
  "kernelspec": {
   "display_name": "Python [conda env:base] *",
   "language": "python",
   "name": "conda-base-py"
  },
  "language_info": {
   "codemirror_mode": {
    "name": "ipython",
    "version": 3
   },
   "file_extension": ".py",
   "mimetype": "text/x-python",
   "name": "python",
   "nbconvert_exporter": "python",
   "pygments_lexer": "ipython3",
   "version": "3.12.7"
  }
 },
 "nbformat": 4,
 "nbformat_minor": 5
}
